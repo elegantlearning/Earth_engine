{
 "cells": [
  {
   "cell_type": "code",
   "execution_count": 1,
   "metadata": {},
   "outputs": [],
   "source": [
    "import ee\n",
    "import geemap"
   ]
  },
  {
   "cell_type": "code",
   "execution_count": 7,
   "metadata": {},
   "outputs": [
    {
     "data": {
      "application/vnd.jupyter.widget-view+json": {
       "model_id": "af8670975fc940cd810f59b48afa9e21",
       "version_major": 2,
       "version_minor": 0
      },
      "text/plain": [
       "Map(center=[40, -100], controls=(WidgetControl(options=['position', 'transparent_bg'], widget=HBox(children=(T…"
      ]
     },
     "metadata": {},
     "output_type": "display_data"
    }
   ],
   "source": [
    "Map = geemap.Map()\n",
    "Map"
   ]
  },
  {
   "cell_type": "code",
   "execution_count": 8,
   "metadata": {},
   "outputs": [],
   "source": [
    "#//add map centre\n",
    "Map.setCenter(77, 28, 4);\n",
    "#//add region of interest\n",
    "roi =ee.Geometry.Polygon(\n",
    "        [[[59.402645607468386, 36.721247854081604],\n",
    "          [59.402645607468386, 6.293426486681035],\n",
    "          [100.18389560746839, 6.293426486681035],\n",
    "          [100.18389560746839, 36.721247854081604]]]);\n",
    "#// add dataset\n",
    "dataset = ee.ImageCollection('MODIS/006/MYD11A1').filter(ee.Filter.date('2021-01-01', '2021-04-30')).select('LST_Day_1km');\n",
    "#//Clip dataset to region of interest\n",
    "clip=dataset.mean().clip(roi)\n",
    "#//add palette colors                 \n",
    "band = {\n",
    "  'min': 13000.0,\n",
    "  'max': 16500.0,\n",
    "  'palette': [\n",
    "    '040274', '040281', '0502a3', '0502b8', '0502ce', '0502e6',\n",
    "    '0602ff', '235cb1', '307ef3', '269db1', '30c8e2', '32d3ef',\n",
    "    '3be285', '3ff38f', '86e26f', '3ae237', 'b5e22e', 'd6e21f',\n",
    "    'fff705', 'ffd611', 'ffb613', 'ff8b13', 'ff6e08', 'ff500d',\n",
    "    'ff0000', 'de0101', 'c21301', 'a71001', '911003'],};\n",
    "\n",
    "#//add LST map to console\n",
    "Map.addLayer(\n",
    "    clip, band,\n",
    "    'Land Surface Temperature(LST)');\n"
   ]
  },
  {
   "cell_type": "code",
   "execution_count": 9,
   "metadata": {},
   "outputs": [
    {
     "data": {
      "application/vnd.jupyter.widget-view+json": {
       "model_id": "af8670975fc940cd810f59b48afa9e21",
       "version_major": 2,
       "version_minor": 0
      },
      "text/plain": [
       "Map(bottom=2016.0, center=[28, 77], controls=(WidgetControl(options=['position', 'transparent_bg'], widget=HBo…"
      ]
     },
     "metadata": {},
     "output_type": "display_data"
    }
   ],
   "source": [
    "Map.addLayerControl() \n",
    "Map"
   ]
  },
  {
   "cell_type": "code",
   "execution_count": null,
   "metadata": {},
   "outputs": [],
   "source": []
  }
 ],
 "metadata": {
  "kernelspec": {
   "display_name": "Python 3",
   "language": "python",
   "name": "python3"
  },
  "language_info": {
   "codemirror_mode": {
    "name": "ipython",
    "version": 3
   },
   "file_extension": ".py",
   "mimetype": "text/x-python",
   "name": "python",
   "nbconvert_exporter": "python",
   "pygments_lexer": "ipython3",
   "version": "3.8.6"
  }
 },
 "nbformat": 4,
 "nbformat_minor": 4
}
